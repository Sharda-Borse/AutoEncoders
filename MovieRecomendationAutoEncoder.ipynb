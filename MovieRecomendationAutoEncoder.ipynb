{
  "cells": [
    {
      "metadata": {
        "_uuid": "8f2839f25d086af736a60e9eeb907d3b93b6e0e5",
        "_cell_guid": "b1076dfc-b9ad-4769-8c92-a6c4dae69d19",
        "trusted": true
      },
      "cell_type": "code",
      "source": "# Auto Encoder\n# Importing the libraries\nimport numpy as np\nimport pandas as pd\nimport torch\nimport torch.nn as nn\nimport torch.nn.parallel\nimport torch.optim as optim\nimport torch.utils.data\nfrom torch.autograd import Variable\n",
      "execution_count": null,
      "outputs": []
    },
    {
      "metadata": {
        "_cell_guid": "79c7e3d0-c299-4dcb-8224-4455121ee9b0",
        "_uuid": "d629ff2d2480ee46fbb7e2d37f6b5fab8052498a",
        "trusted": true
      },
      "cell_type": "code",
      "source": "# Importing the dataset\nmovies = pd.read_csv('../input/ml-1m/ml-1m/movies.dat', sep = '::', header = None, engine = 'python', encoding = 'latin-1')\nusers = pd.read_csv('../input/ml-1m/ml-1m/users.dat', sep = '::', header = None, engine = 'python', encoding = 'latin-1')\nratings = pd.read_csv('../input/ml-1m/ml-1m/ratings.dat', sep = '::', header = None, engine = 'python', encoding = 'latin-1')",
      "execution_count": null,
      "outputs": []
    },
    {
      "metadata": {
        "trusted": true,
        "_uuid": "b24bddece056b0524cafc76ce4048d1bb4a835fe"
      },
      "cell_type": "code",
      "source": "# Preparing the training set and the test set\ntraining_set = pd.read_csv('../input/ml-100k/ml-100k/u1.base', delimiter = '\\t')\n# convert into array to use pytorch\ntraining_set = np.array(training_set, dtype = 'int')\ntest_set = pd.read_csv('../input/ml-100k/ml-100k/u1.test', delimiter = '\\t')\ntest_set = np.array(test_set, dtype = 'int')\n",
      "execution_count": null,
      "outputs": []
    },
    {
      "metadata": {
        "trusted": true,
        "_uuid": "66bfb033d5fdcea4d4123ff4b4ad13f914a1276e"
      },
      "cell_type": "code",
      "source": "# Getting the number of users and movies\nnb_users = int(max(max(training_set[:,0]), max(test_set[:,0])))\nnb_movies = int(max(max(training_set[:,1]), max(test_set[:,1])))",
      "execution_count": null,
      "outputs": []
    },
    {
      "metadata": {
        "trusted": true,
        "scrolled": true,
        "_uuid": "d6f738f3d1d8149b105352acca599949bf25f58a"
      },
      "cell_type": "code",
      "source": "print(\"nb_users\",nb_users)\nprint(\"nb_movies\",nb_movies)",
      "execution_count": null,
      "outputs": []
    },
    {
      "metadata": {
        "trusted": true,
        "_uuid": "830274599f1dee325fbde535a75cca6f9af6f094"
      },
      "cell_type": "code",
      "source": "\n# Converting the data into an array with users in lines and movies in columns\ndef convert(data):\n    new_data = []\n    for id_users in range(1, nb_users + 1):\n        id_movies = data[:,1][data[:,0] == id_users]\n        id_ratings = data[:,2][data[:,0] == id_users]\n        ratings = np.zeros(nb_movies)\n        ratings[id_movies - 1] = id_ratings\n        new_data.append(list(ratings))\n    return new_data\ntraining_set = convert(training_set)\ntest_set = convert(test_set)\n\n# Converting the data into Torch tensors\ntraining_set = torch.FloatTensor(training_set)\ntest_set = torch.FloatTensor(test_set)\n",
      "execution_count": null,
      "outputs": []
    },
    {
      "metadata": {
        "trusted": true,
        "_uuid": "8ba983dc35ca7ec5c028db1c012576e28a3049f8"
      },
      "cell_type": "code",
      "source": "\n# Creating the architecture of the Neural Network\nclass SAE(nn.Module):\n    def __init__(self, ):\n        super(SAE, self).__init__()\n        self.fc1 = nn.Linear(nb_movies, 20)\n        self.fc2 = nn.Linear(20, 10)\n        self.fc3 = nn.Linear(10, 20)\n        self.fc4 = nn.Linear(20, nb_movies)\n        self.activation = nn.Sigmoid()\n    def forward(self, x):\n        x = self.activation(self.fc1(x))\n        x = self.activation(self.fc2(x))\n        x = self.activation(self.fc3(x))\n        x = self.fc4(x)\n        return x\nsae = SAE()\ncriterion = nn.MSELoss()\noptimizer = optim.RMSprop(sae.parameters(), lr = 0.01, weight_decay = 0.5)\n",
      "execution_count": null,
      "outputs": []
    },
    {
      "metadata": {
        "trusted": true,
        "_uuid": "4d295bf72a5d03ac2fc62f2be8b5152f11fdb5b4"
      },
      "cell_type": "code",
      "source": "# Training the SAE\nnb_epoch = 200\nfor epoch in range(1, nb_epoch + 1):\n    train_loss = 0\n    s = 0.\n    for id_user in range(nb_users):\n        input = Variable(training_set[id_user]).unsqueeze(0)\n        target = input.clone()\n        if torch.sum(target.data > 0) > 0:\n            output = sae(input)\n            target.require_grad = False\n            output[target == 0] = 0\n            loss = criterion(output, target)\n            mean_corrector = nb_movies/float(torch.sum(target.data > 0) + 1e-10)\n            loss.backward()\n            train_loss += np.sqrt(loss.item() * mean_corrector)\n            #train_loss += np.sqrt(loss.data[0]*mean_corrector)\n            s += 1.\n            optimizer.step()\n    print('epoch: '+str(epoch)+' loss: '+str(train_loss/s))\n",
      "execution_count": null,
      "outputs": []
    },
    {
      "metadata": {
        "trusted": true,
        "_uuid": "a14d9ad6ceb526778985106e655bf2ca05d70c41"
      },
      "cell_type": "code",
      "source": "\n# Testing the SAE\ntest_loss = 0\ns = 0.\nfor id_user in range(nb_users):\n    input = Variable(training_set[id_user]).unsqueeze(0)\n    target = Variable(test_set[id_user])\n    if torch.sum(target.data > 0) > 0:\n        output = sae(input)\n        target.require_grad = False\n        output[target.view(1,-1) == 0] = 0\n        #output[target == 0] = 0\n        loss = criterion(output, target)\n        mean_corrector = nb_movies/float(torch.sum(target.data > 0) + 1e-10)\n        test_loss += np.sqrt(loss.item()*mean_corrector) \n\n        #test_loss += np.sqrt(loss.data[0]*mean_corrector)\n        s += 1.\nprint('test loss: '+str(test_loss/s))",
      "execution_count": null,
      "outputs": []
    }
  ],
  "metadata": {
    "kernelspec": {
      "display_name": "Python 3",
      "language": "python",
      "name": "python3"
    },
    "language_info": {
      "name": "python",
      "version": "3.6.6",
      "mimetype": "text/x-python",
      "codemirror_mode": {
        "name": "ipython",
        "version": 3
      },
      "pygments_lexer": "ipython3",
      "nbconvert_exporter": "python",
      "file_extension": ".py"
    }
  },
  "nbformat": 4,
  "nbformat_minor": 1
}